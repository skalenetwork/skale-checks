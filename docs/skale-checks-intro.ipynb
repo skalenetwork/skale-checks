{
 "cells": [
  {
   "cell_type": "markdown",
   "id": "763e4f0f-5721-4617-b28d-576b71c12771",
   "metadata": {},
   "source": [
    "# **Introduction to SKALE Checks**"
   ]
  },
  {
   "cell_type": "markdown",
   "id": "164ae02d-5688-4909-a623-2b39eb54ff89",
   "metadata": {},
   "source": [
    "The `skale-checks` library is a Python package designed for performing checks on SKALE nodes. It includes functionalities to verify node health, perform contract checks, and run watchdog checks to monitor node compatibility and ensure compliance.\n",
    "\n",
    "https://github.com/skalenetwork/skale-checks"
   ]
  },
  {
   "cell_type": "markdown",
   "id": "f86c18df-0dab-46f3-92ae-12a3a2e1886d",
   "metadata": {},
   "source": [
    "## **Table of Contents**\n",
    "\n",
    "1. Installation\n",
    "2. Architecture\n",
    "3. Setting Up Environment\n",
    "5. Watchdog Checks\n",
    "4. Node Checks\n",
    "5. Watchdog Client"
   ]
  },
  {
   "cell_type": "markdown",
   "id": "d8f95663-0dff-4480-8b1f-488548c35e06",
   "metadata": {},
   "source": [
    "## **Architecture**\n",
    "\n",
    "```\n",
    "NodeChecks (inherits WatchdogChecks)\n",
    "│\n",
    "├── WatchdogChecks (inherits BaseChecks)\n",
    "│   ├── BaseChecks\n",
    "│   └── Watchdog (is used in WatchdogChecks)\n",
    "```"
   ]
  },
  {
   "cell_type": "markdown",
   "id": "c93d62eb-31fc-43b2-94ad-64976ad78190",
   "metadata": {},
   "source": [
    "## **Installation**\n",
    "\n",
    "First, install the `skale-checks` library using `pip`. Ensure you have Python 3.7 or later installed."
   ]
  },
  {
   "cell_type": "code",
   "execution_count": 10,
   "id": "b14aae9d-d6ac-4ba6-ab8b-8c45845b8502",
   "metadata": {
    "collapsed": true,
    "jupyter": {
     "outputs_hidden": true
    }
   },
   "outputs": [
    {
     "name": "stdout",
     "output_type": "stream",
     "text": [
      "Requirement already satisfied: skale-checks in /Users/rikon/dev/skale-checks/venv/lib/python3.9/site-packages (1.0.dev18)\n",
      "Requirement already satisfied: elasticsearch==7.12.0 in /Users/rikon/dev/skale-checks/venv/lib/python3.9/site-packages (from skale-checks) (7.12.0)\n",
      "Requirement already satisfied: skale.py==6.2b0 in /Users/rikon/dev/skale-checks/venv/lib/python3.9/site-packages (from skale-checks) (6.2b0)\n",
      "Requirement already satisfied: certifi in /Users/rikon/dev/skale-checks/venv/lib/python3.9/site-packages (from elasticsearch==7.12.0->skale-checks) (2024.8.30)\n",
      "Requirement already satisfied: urllib3<2,>=1.21.1 in /Users/rikon/dev/skale-checks/venv/lib/python3.9/site-packages (from elasticsearch==7.12.0->skale-checks) (1.26.0)\n",
      "Requirement already satisfied: typing-extensions==4.9.0 in /Users/rikon/dev/skale-checks/venv/lib/python3.9/site-packages (from skale.py==6.2b0->skale-checks) (4.9.0)\n",
      "Requirement already satisfied: asyncio==3.4.3 in /Users/rikon/dev/skale-checks/venv/lib/python3.9/site-packages (from skale.py==6.2b0->skale-checks) (3.4.3)\n",
      "Requirement already satisfied: sgx.py==0.9dev2 in /Users/rikon/dev/skale-checks/venv/lib/python3.9/site-packages (from skale.py==6.2b0->skale-checks) (0.9.dev2)\n",
      "Requirement already satisfied: pyyaml==6.0 in /Users/rikon/dev/skale-checks/venv/lib/python3.9/site-packages (from skale.py==6.2b0->skale-checks) (6.0)\n",
      "Requirement already satisfied: web3==6.13.0 in /Users/rikon/dev/skale-checks/venv/lib/python3.9/site-packages (from skale.py==6.2b0->skale-checks) (6.13.0)\n",
      "Requirement already satisfied: redis==4.4.4 in /Users/rikon/dev/skale-checks/venv/lib/python3.9/site-packages (from skale.py==6.2b0->skale-checks) (4.4.4)\n",
      "Requirement already satisfied: async-timeout>=4.0.2 in /Users/rikon/dev/skale-checks/venv/lib/python3.9/site-packages (from redis==4.4.4->skale.py==6.2b0->skale-checks) (4.0.3)\n",
      "Requirement already satisfied: M2Crypto==0.40.1 in /Users/rikon/dev/skale-checks/venv/lib/python3.9/site-packages (from sgx.py==0.9dev2->skale.py==6.2b0->skale-checks) (0.40.1)\n",
      "Requirement already satisfied: pyzmq==25.0.2 in /Users/rikon/dev/skale-checks/venv/lib/python3.9/site-packages (from sgx.py==0.9dev2->skale.py==6.2b0->skale-checks) (25.0.2)\n",
      "Requirement already satisfied: pem==21.2.0 in /Users/rikon/dev/skale-checks/venv/lib/python3.9/site-packages (from sgx.py==0.9dev2->skale.py==6.2b0->skale-checks) (21.2.0)\n",
      "Requirement already satisfied: eth-typing>=3.0.0 in /Users/rikon/dev/skale-checks/venv/lib/python3.9/site-packages (from web3==6.13.0->skale.py==6.2b0->skale-checks) (5.0.0)\n",
      "Requirement already satisfied: eth-utils>=2.1.0 in /Users/rikon/dev/skale-checks/venv/lib/python3.9/site-packages (from web3==6.13.0->skale.py==6.2b0->skale-checks) (4.1.1)\n",
      "Requirement already satisfied: pyunormalize>=15.0.0 in /Users/rikon/dev/skale-checks/venv/lib/python3.9/site-packages (from web3==6.13.0->skale.py==6.2b0->skale-checks) (15.1.0)\n",
      "Requirement already satisfied: jsonschema>=4.0.0 in /Users/rikon/dev/skale-checks/venv/lib/python3.9/site-packages (from web3==6.13.0->skale.py==6.2b0->skale-checks) (4.23.0)\n",
      "Requirement already satisfied: websockets>=10.0.0 in /Users/rikon/dev/skale-checks/venv/lib/python3.9/site-packages (from web3==6.13.0->skale.py==6.2b0->skale-checks) (13.0.1)\n",
      "Requirement already satisfied: eth-abi>=4.0.0 in /Users/rikon/dev/skale-checks/venv/lib/python3.9/site-packages (from web3==6.13.0->skale.py==6.2b0->skale-checks) (5.1.0)\n",
      "Requirement already satisfied: protobuf>=4.21.6 in /Users/rikon/dev/skale-checks/venv/lib/python3.9/site-packages (from web3==6.13.0->skale.py==6.2b0->skale-checks) (5.28.0)\n",
      "Requirement already satisfied: aiohttp>=3.7.4.post0 in /Users/rikon/dev/skale-checks/venv/lib/python3.9/site-packages (from web3==6.13.0->skale.py==6.2b0->skale-checks) (3.10.5)\n",
      "Requirement already satisfied: lru-dict<1.3.0,>=1.1.6 in /Users/rikon/dev/skale-checks/venv/lib/python3.9/site-packages (from web3==6.13.0->skale.py==6.2b0->skale-checks) (1.2.0)\n",
      "Requirement already satisfied: eth-account>=0.8.0 in /Users/rikon/dev/skale-checks/venv/lib/python3.9/site-packages (from web3==6.13.0->skale.py==6.2b0->skale-checks) (0.11.3)\n",
      "Requirement already satisfied: requests>=2.16.0 in /Users/rikon/dev/skale-checks/venv/lib/python3.9/site-packages (from web3==6.13.0->skale.py==6.2b0->skale-checks) (2.32.3)\n",
      "Requirement already satisfied: hexbytes<0.4.0,>=0.1.0 in /Users/rikon/dev/skale-checks/venv/lib/python3.9/site-packages (from web3==6.13.0->skale.py==6.2b0->skale-checks) (0.3.1)\n",
      "Requirement already satisfied: eth-hash[pycryptodome]>=0.5.1 in /Users/rikon/dev/skale-checks/venv/lib/python3.9/site-packages (from web3==6.13.0->skale.py==6.2b0->skale-checks) (0.7.0)\n",
      "Requirement already satisfied: frozenlist>=1.1.1 in /Users/rikon/dev/skale-checks/venv/lib/python3.9/site-packages (from aiohttp>=3.7.4.post0->web3==6.13.0->skale.py==6.2b0->skale-checks) (1.4.1)\n",
      "Requirement already satisfied: multidict<7.0,>=4.5 in /Users/rikon/dev/skale-checks/venv/lib/python3.9/site-packages (from aiohttp>=3.7.4.post0->web3==6.13.0->skale.py==6.2b0->skale-checks) (6.1.0)\n",
      "Requirement already satisfied: attrs>=17.3.0 in /Users/rikon/dev/skale-checks/venv/lib/python3.9/site-packages (from aiohttp>=3.7.4.post0->web3==6.13.0->skale.py==6.2b0->skale-checks) (24.2.0)\n",
      "Requirement already satisfied: aiosignal>=1.1.2 in /Users/rikon/dev/skale-checks/venv/lib/python3.9/site-packages (from aiohttp>=3.7.4.post0->web3==6.13.0->skale.py==6.2b0->skale-checks) (1.3.1)\n",
      "Requirement already satisfied: yarl<2.0,>=1.0 in /Users/rikon/dev/skale-checks/venv/lib/python3.9/site-packages (from aiohttp>=3.7.4.post0->web3==6.13.0->skale.py==6.2b0->skale-checks) (1.11.1)\n",
      "Requirement already satisfied: aiohappyeyeballs>=2.3.0 in /Users/rikon/dev/skale-checks/venv/lib/python3.9/site-packages (from aiohttp>=3.7.4.post0->web3==6.13.0->skale.py==6.2b0->skale-checks) (2.4.0)\n",
      "Requirement already satisfied: parsimonious<0.11.0,>=0.10.0 in /Users/rikon/dev/skale-checks/venv/lib/python3.9/site-packages (from eth-abi>=4.0.0->web3==6.13.0->skale.py==6.2b0->skale-checks) (0.10.0)\n",
      "Requirement already satisfied: ckzg<2,>=0.4.3 in /Users/rikon/dev/skale-checks/venv/lib/python3.9/site-packages (from eth-account>=0.8.0->web3==6.13.0->skale.py==6.2b0->skale-checks) (1.0.2)\n",
      "Requirement already satisfied: rlp>=1.0.0 in /Users/rikon/dev/skale-checks/venv/lib/python3.9/site-packages (from eth-account>=0.8.0->web3==6.13.0->skale.py==6.2b0->skale-checks) (4.0.1)\n",
      "Requirement already satisfied: bitarray>=2.4.0 in /Users/rikon/dev/skale-checks/venv/lib/python3.9/site-packages (from eth-account>=0.8.0->web3==6.13.0->skale.py==6.2b0->skale-checks) (2.9.2)\n",
      "Requirement already satisfied: eth-rlp>=0.3.0 in /Users/rikon/dev/skale-checks/venv/lib/python3.9/site-packages (from eth-account>=0.8.0->web3==6.13.0->skale.py==6.2b0->skale-checks) (1.0.1)\n",
      "Requirement already satisfied: eth-keyfile>=0.6.0 in /Users/rikon/dev/skale-checks/venv/lib/python3.9/site-packages (from eth-account>=0.8.0->web3==6.13.0->skale.py==6.2b0->skale-checks) (0.8.1)\n",
      "Requirement already satisfied: eth-keys>=0.4.0 in /Users/rikon/dev/skale-checks/venv/lib/python3.9/site-packages (from eth-account>=0.8.0->web3==6.13.0->skale.py==6.2b0->skale-checks) (0.5.1)\n",
      "Requirement already satisfied: pycryptodome<4,>=3.6.6 in /Users/rikon/dev/skale-checks/venv/lib/python3.9/site-packages (from eth-hash[pycryptodome]>=0.5.1->web3==6.13.0->skale.py==6.2b0->skale-checks) (3.20.0)\n",
      "Requirement already satisfied: cytoolz>=0.10.1 in /Users/rikon/dev/skale-checks/venv/lib/python3.9/site-packages (from eth-utils>=2.1.0->web3==6.13.0->skale.py==6.2b0->skale-checks) (0.12.3)\n",
      "Requirement already satisfied: toolz>=0.8.0 in /Users/rikon/dev/skale-checks/venv/lib/python3.9/site-packages (from cytoolz>=0.10.1->eth-utils>=2.1.0->web3==6.13.0->skale.py==6.2b0->skale-checks) (0.12.1)\n",
      "Requirement already satisfied: rpds-py>=0.7.1 in /Users/rikon/dev/skale-checks/venv/lib/python3.9/site-packages (from jsonschema>=4.0.0->web3==6.13.0->skale.py==6.2b0->skale-checks) (0.20.0)\n",
      "Requirement already satisfied: jsonschema-specifications>=2023.03.6 in /Users/rikon/dev/skale-checks/venv/lib/python3.9/site-packages (from jsonschema>=4.0.0->web3==6.13.0->skale.py==6.2b0->skale-checks) (2023.12.1)\n",
      "Requirement already satisfied: referencing>=0.28.4 in /Users/rikon/dev/skale-checks/venv/lib/python3.9/site-packages (from jsonschema>=4.0.0->web3==6.13.0->skale.py==6.2b0->skale-checks) (0.35.1)\n",
      "Requirement already satisfied: regex>=2022.3.15 in /Users/rikon/dev/skale-checks/venv/lib/python3.9/site-packages (from parsimonious<0.11.0,>=0.10.0->eth-abi>=4.0.0->web3==6.13.0->skale.py==6.2b0->skale-checks) (2024.7.24)\n",
      "Requirement already satisfied: idna<4,>=2.5 in /Users/rikon/dev/skale-checks/venv/lib/python3.9/site-packages (from requests>=2.16.0->web3==6.13.0->skale.py==6.2b0->skale-checks) (3.8)\n",
      "Requirement already satisfied: charset-normalizer<4,>=2 in /Users/rikon/dev/skale-checks/venv/lib/python3.9/site-packages (from requests>=2.16.0->web3==6.13.0->skale.py==6.2b0->skale-checks) (3.3.2)\n",
      "\u001b[33mWARNING: You are using pip version 21.1.2; however, version 24.2 is available.\n",
      "You should consider upgrading via the '/Users/rikon/dev/skale-checks/venv/bin/python -m pip install --upgrade pip' command.\u001b[0m\n"
     ]
    }
   ],
   "source": [
    "!pip install skale-checks"
   ]
  },
  {
   "cell_type": "code",
   "execution_count": 39,
   "id": "b27ea14d-fe4d-4843-9bf1-c5481a841296",
   "metadata": {},
   "outputs": [],
   "source": [
    "\n"
   ]
  },
  {
   "cell_type": "markdown",
   "id": "0745abbb-c39d-403c-a8b4-9961439bc76b",
   "metadata": {},
   "source": [
    "## **Setting Up Environment**\n",
    "To interact with the SKALE network, you'll need to set up a connection using the skale library. Replace the placeholders with your actual SKALE credentials and endpoints."
   ]
  },
  {
   "cell_type": "code",
   "execution_count": 75,
   "id": "8b4fb595-ddc2-4ef7-a5ce-daa2664c19f5",
   "metadata": {
    "scrolled": true
   },
   "outputs": [
    {
     "name": "stdout",
     "output_type": "stream",
     "text": [
      "  % Total    % Received % Xferd  Average Speed   Time    Time     Time  Current\n",
      "                                 Dload  Upload   Total   Spent    Left  Speed\n",
      "100  463k  100  463k    0     0  1866k      0 --:--:-- --:--:-- --:--:-- 1869k\n"
     ]
    }
   ],
   "source": [
    "!curl -o /tmp/abi.json https://raw.githubusercontent.com/skalenetwork/skale-network/master/releases/mainnet/skale-manager/1.11.0/skale-manager-1.11.0-mainnet-abi.json"
   ]
  },
  {
   "cell_type": "code",
   "execution_count": 76,
   "id": "4005591a-1e55-4ecb-bc34-6879614e8e7c",
   "metadata": {},
   "outputs": [],
   "source": [
    "from skale import Skale\n",
    "\n",
    "ENDPOINT = 'https://ethereum-rpc.publicnode.com'\n",
    "\n",
    "skale = Skale(ENDPOINT, abi_filepath='/tmp/abi.json')\n",
    "\n",
    "web3 = Web3(Web3.HTTPProvider(ENDPOINT))"
   ]
  },
  {
   "cell_type": "markdown",
   "id": "b5ee7501-020c-415e-9539-d7bcc2fea708",
   "metadata": {},
   "source": [
    "## **WatchdogChecks**"
   ]
  },
  {
   "cell_type": "markdown",
   "id": "e3943b58-f629-4ff5-89a9-3feab055611d",
   "metadata": {},
   "source": [
    "WatchdogChecks object represents and handles checks that could be retrieved via watchdog API. Let's choose one of the nodes from Mainnet and play with it"
   ]
  },
  {
   "cell_type": "code",
   "execution_count": 66,
   "id": "1156c78f-89df-4e52-887e-a9af59788664",
   "metadata": {},
   "outputs": [],
   "source": [
    "from skale_checks.checks.watchdog import WatchdogChecks\n",
    "\n",
    "node_ip = '35.205.78.215'\n",
    "domain_name = 'block-node-4.skale.bdnodes.net'\n",
    "\n",
    "wd_checks = WatchdogChecks(\n",
    "    node_ip,\n",
    "    network='mainnet',  # or 'testnet'\n",
    "    domain_name=domain_name,  # Optional\n",
    "    web3=web3,  # Optional Web3 instance for endpoint checks\n",
    "    timeout=10  # Optional timeout for connections\n",
    ")"
   ]
  },
  {
   "cell_type": "markdown",
   "id": "d343d3da-be7a-4be0-b057-11ff9cbf1fea",
   "metadata": {},
   "source": [
    "### Info()\n",
    "WatchdogChecks obj has method info() to get the list of available checks"
   ]
  },
  {
   "cell_type": "code",
   "execution_count": 44,
   "id": "7bf5518d-d56a-43e3-9748-faef9dd2f2f7",
   "metadata": {},
   "outputs": [
    {
     "data": {
      "text/plain": [
       "{'btrfs': ['btrfs'],\n",
       " 'core': ['core'],\n",
       " 'endpoint': ['endpoint', 'trusted_endpoint', 'endpoint_speed'],\n",
       " 'hardware': ['hardware'],\n",
       " 'public_ip': ['public_ip'],\n",
       " 'sgx': ['sgx', 'sgx_version'],\n",
       " 'ssl': ['ssl'],\n",
       " 'validator_nodes': ['validator_nodes'],\n",
       " 'versions': ['versions']}"
      ]
     },
     "execution_count": 44,
     "metadata": {},
     "output_type": "execute_result"
    }
   ],
   "source": [
    "wd_checks.info()"
   ]
  },
  {
   "cell_type": "markdown",
   "id": "572d500b-fb98-41f0-b8ae-c2f69b8b455b",
   "metadata": {},
   "source": [
    "### Get()\n",
    "\n",
    "All interactions with WatchdogChecks are performed via method get(). The returned object is a ChecksDict - a dict, where key is a check name and value is CheckStatus. \n",
    "\n",
    "CheckStatus could have 3 states:\n",
    "- FAILED (0)\n",
    "- PASSED (1)\n",
    "- UNKNOWN (2) "
   ]
  },
  {
   "cell_type": "code",
   "execution_count": 71,
   "id": "001aaef1-a5a4-42b1-9bea-448b1b9d9974",
   "metadata": {},
   "outputs": [],
   "source": [
    "from skale_checks.checks.types import CheckStatus"
   ]
  },
  {
   "cell_type": "code",
   "execution_count": 47,
   "id": "756ddf7a-4955-407d-bbff-6b956dcd9e9c",
   "metadata": {},
   "outputs": [
    {
     "data": {
      "text/plain": [
       "{'endpoint': <CheckStatus.PASSED: 1>,\n",
       " 'trusted_endpoint': <CheckStatus.PASSED: 1>,\n",
       " 'endpoint_speed': <CheckStatus.PASSED: 1>}"
      ]
     },
     "execution_count": 47,
     "metadata": {},
     "output_type": "execute_result"
    }
   ],
   "source": [
    "wd_checks.get('endpoint')"
   ]
  },
  {
   "cell_type": "code",
   "execution_count": 43,
   "id": "86b6c323-0a00-4fa2-8aa4-25fa7dfdce86",
   "metadata": {},
   "outputs": [
    {
     "data": {
      "text/plain": [
       "{'core': <CheckStatus.PASSED: 1>,\n",
       " 'btrfs': <CheckStatus.PASSED: 1>,\n",
       " 'endpoint': <CheckStatus.PASSED: 1>,\n",
       " 'trusted_endpoint': <CheckStatus.PASSED: 1>,\n",
       " 'endpoint_speed': <CheckStatus.PASSED: 1>,\n",
       " 'hardware': <CheckStatus.PASSED: 1>,\n",
       " 'public_ip': <CheckStatus.PASSED: 1>,\n",
       " 'sgx': <CheckStatus.PASSED: 1>,\n",
       " 'sgx_version': <CheckStatus.FAILED: 0>,\n",
       " 'ssl': <CheckStatus.PASSED: 1>,\n",
       " 'validator_nodes': <CheckStatus.PASSED: 1>}"
      ]
     },
     "execution_count": 43,
     "metadata": {},
     "output_type": "execute_result"
    }
   ],
   "source": [
    "wd_checks.get(exclude='versions')"
   ]
  },
  {
   "cell_type": "code",
   "execution_count": 48,
   "id": "11e4acb5-b76d-49e7-902a-b530ddea132e",
   "metadata": {},
   "outputs": [],
   "source": [
    "test_checks = wd_checks.get('versions','core','sgx')"
   ]
  },
  {
   "cell_type": "code",
   "execution_count": 70,
   "id": "8118783b-0592-4249-9bbb-e8db4f75bdd2",
   "metadata": {},
   "outputs": [
    {
     "name": "stdout",
     "output_type": "stream",
     "text": [
      "OK\n"
     ]
    }
   ],
   "source": [
    "if test_checks['core'] == CheckStatus.PASSED:\n",
    "    print('OK')\n",
    "else:\n",
    "    print('NOT OK')"
   ]
  },
  {
   "cell_type": "markdown",
   "id": "fccf772b-deb9-4626-a0f5-cb0a354812fb",
   "metadata": {},
   "source": [
    "## **NodeChecks**"
   ]
  },
  {
   "cell_type": "markdown",
   "id": "cfbad254-0e4c-423c-8be5-c6a47f5fed57",
   "metadata": {},
   "source": [
    "NodeChecks is a higher-level abstraction above WatchdogChecks and represents all the checks for a node. It includes checks from Watchdog, Skale Manager, and Elasticsearch. An object of skale is required to initiate interaction."
   ]
  },
  {
   "cell_type": "code",
   "execution_count": 67,
   "id": "7b6da346-7f69-48b6-bf68-7eb11a913fbf",
   "metadata": {},
   "outputs": [],
   "source": [
    "from skale_checks.checks.node import NodeChecks\n",
    "\n",
    "node_id = 220\n",
    "\n",
    "node_checks = NodeChecks(\n",
    "    skale,\n",
    "    node_id,\n",
    "    network='mainnet',  # or 'testnet'\n",
    "    timeout=10  # Optional timeout for connections\n",
    ")"
   ]
  },
  {
   "cell_type": "code",
   "execution_count": 57,
   "id": "5b5b0409-a7e2-42ec-b253-bb3bac6ccb1b",
   "metadata": {},
   "outputs": [
    {
     "data": {
      "text/plain": [
       "{'btrfs': ['btrfs'],\n",
       " 'core': ['core'],\n",
       " 'endpoint': ['endpoint', 'trusted_endpoint', 'endpoint_speed'],\n",
       " 'hardware': ['hardware'],\n",
       " 'internal_ports': ['internal_ports'],\n",
       " 'logs': ['logs'],\n",
       " 'node_balance': ['node_balance'],\n",
       " 'public_ip': ['public_ip'],\n",
       " 'sgx': ['sgx', 'sgx_version'],\n",
       " 'ssl': ['ssl'],\n",
       " 'status': ['status'],\n",
       " 'validator_balance': ['val_balance'],\n",
       " 'validator_nodes': ['validator_nodes'],\n",
       " 'versions': ['versions']}"
      ]
     },
     "execution_count": 57,
     "metadata": {},
     "output_type": "execute_result"
    }
   ],
   "source": [
    "node_checks.info()"
   ]
  },
  {
   "cell_type": "code",
   "execution_count": 58,
   "id": "d306b039-3683-4b87-b0cf-8ce1246a9e2a",
   "metadata": {},
   "outputs": [
    {
     "data": {
      "text/plain": [
       "{'btrfs': <CheckStatus.PASSED: 1>,\n",
       " 'core': <CheckStatus.PASSED: 1>,\n",
       " 'endpoint': <CheckStatus.PASSED: 1>,\n",
       " 'trusted_endpoint': <CheckStatus.PASSED: 1>,\n",
       " 'endpoint_speed': <CheckStatus.PASSED: 1>,\n",
       " 'logs': <CheckStatus.UNKNOWN: 2>,\n",
       " 'hardware': <CheckStatus.PASSED: 1>,\n",
       " 'public_ip': <CheckStatus.PASSED: 1>,\n",
       " 'node_balance': <CheckStatus.PASSED: 1>,\n",
       " 'sgx': <CheckStatus.PASSED: 1>,\n",
       " 'sgx_version': <CheckStatus.FAILED: 0>,\n",
       " 'status': <CheckStatus.FAILED: 0>,\n",
       " 'ssl': <CheckStatus.PASSED: 1>,\n",
       " 'validator_nodes': <CheckStatus.PASSED: 1>,\n",
       " 'versions': <CheckStatus.FAILED: 0>,\n",
       " 'val_balance': <CheckStatus.PASSED: 1>,\n",
       " 'internal_ports': <CheckStatus.PASSED: 1>}"
      ]
     },
     "execution_count": 58,
     "metadata": {},
     "output_type": "execute_result"
    }
   ],
   "source": [
    "node_checks.get()"
   ]
  },
  {
   "cell_type": "code",
   "execution_count": 60,
   "id": "a92540c1-61c0-4272-9926-cf28a5e05619",
   "metadata": {},
   "outputs": [
    {
     "data": {
      "text/plain": [
       "{'core': <CheckStatus.PASSED: 1>,\n",
       " 'hardware': <CheckStatus.PASSED: 1>,\n",
       " 'btrfs': <CheckStatus.PASSED: 1>,\n",
       " 'logs': <CheckStatus.UNKNOWN: 2>,\n",
       " 'endpoint': <CheckStatus.PASSED: 1>,\n",
       " 'trusted_endpoint': <CheckStatus.PASSED: 1>,\n",
       " 'endpoint_speed': <CheckStatus.PASSED: 1>,\n",
       " 'node_balance': <CheckStatus.PASSED: 1>,\n",
       " 'public_ip': <CheckStatus.PASSED: 1>,\n",
       " 'sgx': <CheckStatus.PASSED: 1>,\n",
       " 'sgx_version': <CheckStatus.FAILED: 0>,\n",
       " 'status': <CheckStatus.FAILED: 0>,\n",
       " 'ssl': <CheckStatus.PASSED: 1>,\n",
       " 'versions': <CheckStatus.FAILED: 0>,\n",
       " 'val_balance': <CheckStatus.PASSED: 1>,\n",
       " 'internal_ports': <CheckStatus.PASSED: 1>}"
      ]
     },
     "execution_count": 60,
     "metadata": {},
     "output_type": "execute_result"
    }
   ],
   "source": [
    "node_checks.get(exclude='validator_nodes')"
   ]
  },
  {
   "cell_type": "markdown",
   "id": "cf730521-50f1-4d8f-b319-13b2c99ea215",
   "metadata": {},
   "source": [
    "## **Watchdog Client**\n",
    "\n",
    "Client for interacting with watchdog container and its API"
   ]
  },
  {
   "cell_type": "code",
   "execution_count": 62,
   "id": "c55e15cc-8e60-4ddc-829b-54ff789c8ada",
   "metadata": {},
   "outputs": [],
   "source": [
    "from skale_checks.adapters.watchdog import Watchdog\n",
    "\n",
    "watchdog = Watchdog(node_ip)"
   ]
  },
  {
   "cell_type": "code",
   "execution_count": 63,
   "id": "3639530b-c12b-478a-b5e9-82dc68563d52",
   "metadata": {},
   "outputs": [
    {
     "data": {
      "text/plain": [
       "Response(status='ok', payload={'skale_ima_honorable-steel-rasalhague': '2.1.0', 'skale_schain_honorable-steel-rasalhague': '3.19.1', 'skale_ima_round-hasty-alsafi': '2.1.0', 'skale_schain_round-hasty-alsafi': '3.19.1', 'skale_telegraf': '1.27.4', 'skale_nginx': '1.20.2', 'skale_watchdog': '2.2.0-stable.0', 'skale_admin': '2.7.1', 'skale_redis': '6.0.10-alpine', 'skale_transaction-manager': '2.3.0', 'skale_api': '2.7.1', 'skale_bounty': '2.2.0-stable.0', 'skale_filebeat': '7.3.1', 'schain': '3.19.1', 'ima': '2.1.0', 'node-cli': '2.4.0', 'configs': '3.0.1', 'docker-lvmpy': '1.0.2-stable.0', 'os_id': 'ubuntu', 'os_version': '20.04'})"
      ]
     },
     "execution_count": 63,
     "metadata": {},
     "output_type": "execute_result"
    }
   ],
   "source": [
    "watchdog.get_component_versions()"
   ]
  },
  {
   "cell_type": "code",
   "execution_count": 64,
   "id": "4f36aa3d-cbb6-448e-bd2c-4f7ada5084df",
   "metadata": {},
   "outputs": [
    {
     "data": {
      "text/plain": [
       "Response(status='ok', payload={'skale_ima_honorable-steel-rasalhague': {'status': 'running', 'exitCode': 0, 'finishedAt': '2024-09-10T23:14:28.704387701Z', 'version': 'skalenetwork/ima:2.1.0'}, 'skale_schain_honorable-steel-rasalhague': {'status': 'running', 'exitCode': 0, 'finishedAt': '0001-01-01T00:00:00Z', 'version': 'skalenetwork/schain:3.19.1'}, 'skale_ima_round-hasty-alsafi': {'status': 'running', 'exitCode': 0, 'finishedAt': '2024-09-10T23:31:32.726486304Z', 'version': 'skalenetwork/ima:2.1.0'}, 'skale_schain_round-hasty-alsafi': {'status': 'running', 'exitCode': 0, 'finishedAt': '0001-01-01T00:00:00Z', 'version': 'skalenetwork/schain:3.19.1'}, 'skale_telegraf': {'status': 'running', 'exitCode': 0, 'finishedAt': '2024-09-06T15:20:30.830010782Z', 'version': 'telegraf:1.27.4'}, 'skale_nginx': {'status': 'running', 'exitCode': 0, 'finishedAt': '2024-09-05T16:17:04.850577944Z', 'version': 'nginx:1.20.2'}, 'skale_watchdog': {'status': 'running', 'exitCode': 0, 'finishedAt': '0001-01-01T00:00:00Z', 'version': 'skalenetwork/watchdog:2.2.0-stable.0'}, 'skale_admin': {'status': 'running', 'exitCode': 0, 'finishedAt': '2024-09-06T15:20:22.539923431Z', 'version': 'skalenetwork/admin:2.7.1'}, 'skale_redis': {'status': 'running', 'exitCode': 0, 'finishedAt': '0001-01-01T00:00:00Z', 'version': 'redis:6.0.10-alpine'}, 'skale_transaction-manager': {'status': 'running', 'exitCode': 0, 'finishedAt': '0001-01-01T00:00:00Z', 'version': 'skalenetwork/transaction-manager:2.3.0'}, 'skale_api': {'status': 'running', 'exitCode': 0, 'finishedAt': '0001-01-01T00:00:00Z', 'version': 'skalenetwork/admin:2.7.1'}, 'skale_bounty': {'status': 'running', 'exitCode': 0, 'finishedAt': '0001-01-01T00:00:00Z', 'version': 'skalenetwork/bounty-agent:2.2.0-stable.0'}, 'skale_filebeat': {'status': 'running', 'exitCode': 0, 'finishedAt': '2024-09-06T15:20:30.544970918Z', 'version': 'docker.elastic.co/beats/filebeat:7.3.1'}})"
      ]
     },
     "execution_count": 64,
     "metadata": {},
     "output_type": "execute_result"
    }
   ],
   "source": [
    "watchdog.get_skale_containers()"
   ]
  },
  {
   "cell_type": "code",
   "execution_count": 65,
   "id": "cf7978a8-d1a1-40d5-979d-ac621b683849",
   "metadata": {},
   "outputs": [
    {
     "data": {
      "text/plain": [
       "Response(status='ok', payload={'name': 'honorable-steel-rasalhague', 'healthchecks': {'config_dir': True, 'dkg': True, 'config': True, 'volume': True, 'firewall_rules': True, 'skaled_container': True, 'exit_code_ok': True, 'rpc': True, 'blocks': True, 'process': True, 'ima_container': True}})"
      ]
     },
     "execution_count": 65,
     "metadata": {},
     "output_type": "execute_result"
    }
   ],
   "source": [
    "watchdog.get_schain_status('honorable-steel-rasalhague')"
   ]
  }
 ],
 "metadata": {
  "kernelspec": {
   "display_name": "Python 3 (ipykernel)",
   "language": "python",
   "name": "python3"
  },
  "language_info": {
   "codemirror_mode": {
    "name": "ipython",
    "version": 3
   },
   "file_extension": ".py",
   "mimetype": "text/x-python",
   "name": "python",
   "nbconvert_exporter": "python",
   "pygments_lexer": "ipython3",
   "version": "3.9.6"
  }
 },
 "nbformat": 4,
 "nbformat_minor": 5
}
